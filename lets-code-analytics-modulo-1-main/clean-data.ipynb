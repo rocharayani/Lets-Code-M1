{
 "cells": [
  {
   "cell_type": "code",
   "execution_count": 1,
   "metadata": {},
   "outputs": [],
   "source": [
    "import numpy as np\n",
    "import pandas as pd"
   ]
  },
  {
   "cell_type": "code",
   "execution_count": 2,
   "metadata": {},
   "outputs": [],
   "source": [
    "filename = 'AgeDataset-V1.csv'"
   ]
  },
  {
   "cell_type": "code",
   "execution_count": 3,
   "metadata": {},
   "outputs": [
    {
     "data": {
      "text/html": [
       "<div>\n",
       "<style scoped>\n",
       "    .dataframe tbody tr th:only-of-type {\n",
       "        vertical-align: middle;\n",
       "    }\n",
       "\n",
       "    .dataframe tbody tr th {\n",
       "        vertical-align: top;\n",
       "    }\n",
       "\n",
       "    .dataframe thead th {\n",
       "        text-align: right;\n",
       "    }\n",
       "</style>\n",
       "<table border=\"1\" class=\"dataframe\">\n",
       "  <thead>\n",
       "    <tr style=\"text-align: right;\">\n",
       "      <th></th>\n",
       "      <th>Id</th>\n",
       "      <th>Name</th>\n",
       "      <th>Short description</th>\n",
       "      <th>Gender</th>\n",
       "      <th>Country</th>\n",
       "      <th>Occupation</th>\n",
       "      <th>Birth year</th>\n",
       "      <th>Death year</th>\n",
       "      <th>Manner of death</th>\n",
       "      <th>Age of death</th>\n",
       "    </tr>\n",
       "  </thead>\n",
       "  <tbody>\n",
       "    <tr>\n",
       "      <th>0</th>\n",
       "      <td>Q23</td>\n",
       "      <td>George Washington</td>\n",
       "      <td>1st president of the United States (1732–1799)</td>\n",
       "      <td>Male</td>\n",
       "      <td>United States of America; Kingdom of Great Bri...</td>\n",
       "      <td>Politician</td>\n",
       "      <td>1732</td>\n",
       "      <td>1799.0</td>\n",
       "      <td>natural causes</td>\n",
       "      <td>67.0</td>\n",
       "    </tr>\n",
       "    <tr>\n",
       "      <th>1</th>\n",
       "      <td>Q42</td>\n",
       "      <td>Douglas Adams</td>\n",
       "      <td>English writer and humorist</td>\n",
       "      <td>Male</td>\n",
       "      <td>United Kingdom</td>\n",
       "      <td>Artist</td>\n",
       "      <td>1952</td>\n",
       "      <td>2001.0</td>\n",
       "      <td>natural causes</td>\n",
       "      <td>49.0</td>\n",
       "    </tr>\n",
       "    <tr>\n",
       "      <th>2</th>\n",
       "      <td>Q91</td>\n",
       "      <td>Abraham Lincoln</td>\n",
       "      <td>16th president of the United States (1809-1865)</td>\n",
       "      <td>Male</td>\n",
       "      <td>United States of America</td>\n",
       "      <td>Politician</td>\n",
       "      <td>1809</td>\n",
       "      <td>1865.0</td>\n",
       "      <td>homicide</td>\n",
       "      <td>56.0</td>\n",
       "    </tr>\n",
       "    <tr>\n",
       "      <th>3</th>\n",
       "      <td>Q254</td>\n",
       "      <td>Wolfgang Amadeus Mozart</td>\n",
       "      <td>Austrian composer of the Classical period</td>\n",
       "      <td>Male</td>\n",
       "      <td>Archduchy of Austria; Archbishopric of Salzburg</td>\n",
       "      <td>Artist</td>\n",
       "      <td>1756</td>\n",
       "      <td>1791.0</td>\n",
       "      <td>NaN</td>\n",
       "      <td>35.0</td>\n",
       "    </tr>\n",
       "    <tr>\n",
       "      <th>4</th>\n",
       "      <td>Q255</td>\n",
       "      <td>Ludwig van Beethoven</td>\n",
       "      <td>German classical and romantic composer</td>\n",
       "      <td>Male</td>\n",
       "      <td>Holy Roman Empire; Austrian Empire</td>\n",
       "      <td>Artist</td>\n",
       "      <td>1770</td>\n",
       "      <td>1827.0</td>\n",
       "      <td>NaN</td>\n",
       "      <td>57.0</td>\n",
       "    </tr>\n",
       "    <tr>\n",
       "      <th>...</th>\n",
       "      <td>...</td>\n",
       "      <td>...</td>\n",
       "      <td>...</td>\n",
       "      <td>...</td>\n",
       "      <td>...</td>\n",
       "      <td>...</td>\n",
       "      <td>...</td>\n",
       "      <td>...</td>\n",
       "      <td>...</td>\n",
       "      <td>...</td>\n",
       "    </tr>\n",
       "    <tr>\n",
       "      <th>1223004</th>\n",
       "      <td>Q77247326</td>\n",
       "      <td>Marie-Fortunée Besson</td>\n",
       "      <td>Frans model (1907-1996)</td>\n",
       "      <td>NaN</td>\n",
       "      <td>France</td>\n",
       "      <td>Tailor; model</td>\n",
       "      <td>1907</td>\n",
       "      <td>1996.0</td>\n",
       "      <td>NaN</td>\n",
       "      <td>89.0</td>\n",
       "    </tr>\n",
       "    <tr>\n",
       "      <th>1223005</th>\n",
       "      <td>Q77249504</td>\n",
       "      <td>Ron Thorsen</td>\n",
       "      <td>xugador de baloncestu canadianu (1948–2004)</td>\n",
       "      <td>NaN</td>\n",
       "      <td>Canada; United States of America</td>\n",
       "      <td>Athlete</td>\n",
       "      <td>1948</td>\n",
       "      <td>2004.0</td>\n",
       "      <td>NaN</td>\n",
       "      <td>56.0</td>\n",
       "    </tr>\n",
       "    <tr>\n",
       "      <th>1223006</th>\n",
       "      <td>Q77249818</td>\n",
       "      <td>Diether Todenhagen</td>\n",
       "      <td>German navy officer and world war II U-boat co...</td>\n",
       "      <td>NaN</td>\n",
       "      <td>Germany</td>\n",
       "      <td>Military personnel</td>\n",
       "      <td>1920</td>\n",
       "      <td>1944.0</td>\n",
       "      <td>NaN</td>\n",
       "      <td>24.0</td>\n",
       "    </tr>\n",
       "    <tr>\n",
       "      <th>1223007</th>\n",
       "      <td>Q77253909</td>\n",
       "      <td>Reginald Oswald Pearson</td>\n",
       "      <td>English artist, working in stained glass, prin...</td>\n",
       "      <td>Male</td>\n",
       "      <td>United Kingdom</td>\n",
       "      <td>Artist</td>\n",
       "      <td>1887</td>\n",
       "      <td>1915.0</td>\n",
       "      <td>NaN</td>\n",
       "      <td>28.0</td>\n",
       "    </tr>\n",
       "    <tr>\n",
       "      <th>1223008</th>\n",
       "      <td>Q77254864</td>\n",
       "      <td>Horst Lerche</td>\n",
       "      <td>German painter</td>\n",
       "      <td>Male</td>\n",
       "      <td>Germany</td>\n",
       "      <td>Artist</td>\n",
       "      <td>1938</td>\n",
       "      <td>2017.0</td>\n",
       "      <td>NaN</td>\n",
       "      <td>79.0</td>\n",
       "    </tr>\n",
       "  </tbody>\n",
       "</table>\n",
       "<p>1223009 rows × 10 columns</p>\n",
       "</div>"
      ],
      "text/plain": [
       "                Id                     Name  \\\n",
       "0              Q23        George Washington   \n",
       "1              Q42            Douglas Adams   \n",
       "2              Q91          Abraham Lincoln   \n",
       "3             Q254  Wolfgang Amadeus Mozart   \n",
       "4             Q255     Ludwig van Beethoven   \n",
       "...            ...                      ...   \n",
       "1223004  Q77247326    Marie-Fortunée Besson   \n",
       "1223005  Q77249504              Ron Thorsen   \n",
       "1223006  Q77249818       Diether Todenhagen   \n",
       "1223007  Q77253909  Reginald Oswald Pearson   \n",
       "1223008  Q77254864             Horst Lerche   \n",
       "\n",
       "                                         Short description Gender  \\\n",
       "0           1st president of the United States (1732–1799)   Male   \n",
       "1                              English writer and humorist   Male   \n",
       "2          16th president of the United States (1809-1865)   Male   \n",
       "3                Austrian composer of the Classical period   Male   \n",
       "4                   German classical and romantic composer   Male   \n",
       "...                                                    ...    ...   \n",
       "1223004                            Frans model (1907-1996)    NaN   \n",
       "1223005        xugador de baloncestu canadianu (1948–2004)    NaN   \n",
       "1223006  German navy officer and world war II U-boat co...    NaN   \n",
       "1223007  English artist, working in stained glass, prin...   Male   \n",
       "1223008                                     German painter   Male   \n",
       "\n",
       "                                                   Country  \\\n",
       "0        United States of America; Kingdom of Great Bri...   \n",
       "1                                           United Kingdom   \n",
       "2                                 United States of America   \n",
       "3          Archduchy of Austria; Archbishopric of Salzburg   \n",
       "4                       Holy Roman Empire; Austrian Empire   \n",
       "...                                                    ...   \n",
       "1223004                                             France   \n",
       "1223005                   Canada; United States of America   \n",
       "1223006                                            Germany   \n",
       "1223007                                     United Kingdom   \n",
       "1223008                                            Germany   \n",
       "\n",
       "                 Occupation  Birth year  Death year Manner of death  \\\n",
       "0                Politician        1732      1799.0  natural causes   \n",
       "1                    Artist        1952      2001.0  natural causes   \n",
       "2                Politician        1809      1865.0        homicide   \n",
       "3                    Artist        1756      1791.0             NaN   \n",
       "4                    Artist        1770      1827.0             NaN   \n",
       "...                     ...         ...         ...             ...   \n",
       "1223004       Tailor; model        1907      1996.0             NaN   \n",
       "1223005             Athlete        1948      2004.0             NaN   \n",
       "1223006  Military personnel        1920      1944.0             NaN   \n",
       "1223007              Artist        1887      1915.0             NaN   \n",
       "1223008              Artist        1938      2017.0             NaN   \n",
       "\n",
       "         Age of death  \n",
       "0                67.0  \n",
       "1                49.0  \n",
       "2                56.0  \n",
       "3                35.0  \n",
       "4                57.0  \n",
       "...               ...  \n",
       "1223004          89.0  \n",
       "1223005          56.0  \n",
       "1223006          24.0  \n",
       "1223007          28.0  \n",
       "1223008          79.0  \n",
       "\n",
       "[1223009 rows x 10 columns]"
      ]
     },
     "execution_count": 3,
     "metadata": {},
     "output_type": "execute_result"
    }
   ],
   "source": [
    "df = pd.read_csv(filename)\n",
    "df"
   ]
  },
  {
   "cell_type": "code",
   "execution_count": 4,
   "metadata": {},
   "outputs": [
    {
     "data": {
      "text/plain": [
       "(1223009, 10)"
      ]
     },
     "execution_count": 4,
     "metadata": {},
     "output_type": "execute_result"
    }
   ],
   "source": [
    "df.shape"
   ]
  },
  {
   "cell_type": "code",
   "execution_count": 5,
   "metadata": {},
   "outputs": [
    {
     "name": "stdout",
     "output_type": "stream",
     "text": [
      "<class 'pandas.core.frame.DataFrame'>\n",
      "RangeIndex: 1223009 entries, 0 to 1223008\n",
      "Data columns (total 10 columns):\n",
      " #   Column             Non-Null Count    Dtype  \n",
      "---  ------             --------------    -----  \n",
      " 0   Id                 1223009 non-null  object \n",
      " 1   Name               1223009 non-null  object \n",
      " 2   Short description  1155109 non-null  object \n",
      " 3   Gender             1089363 non-null  object \n",
      " 4   Country            887500 non-null   object \n",
      " 5   Occupation         1016095 non-null  object \n",
      " 6   Birth year         1223009 non-null  int64  \n",
      " 7   Death year         1223008 non-null  float64\n",
      " 8   Manner of death    53603 non-null    object \n",
      " 9   Age of death       1223008 non-null  float64\n",
      "dtypes: float64(2), int64(1), object(7)\n",
      "memory usage: 93.3+ MB\n"
     ]
    }
   ],
   "source": [
    "df.info()"
   ]
  },
  {
   "cell_type": "code",
   "execution_count": 6,
   "metadata": {},
   "outputs": [],
   "source": [
    "df_clean = df.copy()"
   ]
  },
  {
   "cell_type": "code",
   "execution_count": 7,
   "metadata": {},
   "outputs": [
    {
     "name": "stdout",
     "output_type": "stream",
     "text": [
      "Id: 0\n",
      "Name: 0\n",
      "Short description: 67900\n",
      "Gender: 133646\n",
      "Country: 335509\n",
      "Occupation: 206914\n",
      "Birth year: 0\n",
      "Death year: 1\n",
      "Manner of death: 1169406\n",
      "Age of death: 1\n"
     ]
    }
   ],
   "source": [
    "for col in df.columns:\n",
    "    count = np.sum(df[col].isna())\n",
    "    print(f'{col}: {count}')"
   ]
  },
  {
   "cell_type": "code",
   "execution_count": 8,
   "metadata": {},
   "outputs": [
    {
     "data": {
      "text/plain": [
       "(1155109, 10)"
      ]
     },
     "execution_count": 8,
     "metadata": {},
     "output_type": "execute_result"
    }
   ],
   "source": [
    "df_clean.drop(index=df_clean[df['Short description'].isna()].index, inplace=True)\n",
    "df_clean.shape"
   ]
  },
  {
   "cell_type": "code",
   "execution_count": 9,
   "metadata": {},
   "outputs": [
    {
     "name": "stderr",
     "output_type": "stream",
     "text": [
      "/tmp/ipykernel_145692/4266498844.py:1: UserWarning: Boolean Series key will be reindexed to match DataFrame index.\n",
      "  df_clean.drop(index=df_clean[df['Gender'].isna()].index, inplace=True)\n"
     ]
    },
    {
     "data": {
      "text/plain": [
       "(1040835, 10)"
      ]
     },
     "execution_count": 9,
     "metadata": {},
     "output_type": "execute_result"
    }
   ],
   "source": [
    "df_clean.drop(index=df_clean[df['Gender'].isna()].index, inplace=True)\n",
    "df_clean.shape"
   ]
  },
  {
   "cell_type": "code",
   "execution_count": 10,
   "metadata": {},
   "outputs": [
    {
     "name": "stderr",
     "output_type": "stream",
     "text": [
      "/tmp/ipykernel_145692/1364091423.py:1: UserWarning: Boolean Series key will be reindexed to match DataFrame index.\n",
      "  df_clean.drop(index=df_clean[df['Country'].isna()].index, inplace=True)\n"
     ]
    },
    {
     "data": {
      "text/plain": [
       "(780706, 10)"
      ]
     },
     "execution_count": 10,
     "metadata": {},
     "output_type": "execute_result"
    }
   ],
   "source": [
    "df_clean.drop(index=df_clean[df['Country'].isna()].index, inplace=True)\n",
    "df_clean.shape"
   ]
  },
  {
   "cell_type": "code",
   "execution_count": 11,
   "metadata": {},
   "outputs": [
    {
     "name": "stderr",
     "output_type": "stream",
     "text": [
      "/tmp/ipykernel_145692/1742361876.py:1: UserWarning: Boolean Series key will be reindexed to match DataFrame index.\n",
      "  df_clean.drop(index=df_clean[df['Occupation'].isna()].index, inplace=True)\n"
     ]
    },
    {
     "data": {
      "text/plain": [
       "(732961, 10)"
      ]
     },
     "execution_count": 11,
     "metadata": {},
     "output_type": "execute_result"
    }
   ],
   "source": [
    "df_clean.drop(index=df_clean[df['Occupation'].isna()].index, inplace=True)\n",
    "df_clean.shape"
   ]
  },
  {
   "cell_type": "code",
   "execution_count": 12,
   "metadata": {},
   "outputs": [],
   "source": [
    "# df_clean.drop(index=361, inplace=True)\n",
    "# df_clean.loc[df_clean['Death year'].isna()]"
   ]
  },
  {
   "cell_type": "code",
   "execution_count": 13,
   "metadata": {},
   "outputs": [],
   "source": [
    "df_clean.drop(columns=['Id', 'Manner of death'], inplace=True)"
   ]
  },
  {
   "cell_type": "code",
   "execution_count": 14,
   "metadata": {},
   "outputs": [
    {
     "data": {
      "text/html": [
       "<div>\n",
       "<style scoped>\n",
       "    .dataframe tbody tr th:only-of-type {\n",
       "        vertical-align: middle;\n",
       "    }\n",
       "\n",
       "    .dataframe tbody tr th {\n",
       "        vertical-align: top;\n",
       "    }\n",
       "\n",
       "    .dataframe thead th {\n",
       "        text-align: right;\n",
       "    }\n",
       "</style>\n",
       "<table border=\"1\" class=\"dataframe\">\n",
       "  <thead>\n",
       "    <tr style=\"text-align: right;\">\n",
       "      <th></th>\n",
       "      <th>Name</th>\n",
       "      <th>Short description</th>\n",
       "      <th>Gender</th>\n",
       "      <th>Country</th>\n",
       "      <th>Occupation</th>\n",
       "      <th>Birth year</th>\n",
       "      <th>Death year</th>\n",
       "      <th>Age of death</th>\n",
       "    </tr>\n",
       "  </thead>\n",
       "  <tbody>\n",
       "    <tr>\n",
       "      <th>0</th>\n",
       "      <td>George Washington</td>\n",
       "      <td>1st president of the United States (1732–1799)</td>\n",
       "      <td>Male</td>\n",
       "      <td>United States of America; Kingdom of Great Bri...</td>\n",
       "      <td>Politician</td>\n",
       "      <td>1732</td>\n",
       "      <td>1799.0</td>\n",
       "      <td>67.0</td>\n",
       "    </tr>\n",
       "    <tr>\n",
       "      <th>1</th>\n",
       "      <td>Douglas Adams</td>\n",
       "      <td>English writer and humorist</td>\n",
       "      <td>Male</td>\n",
       "      <td>United Kingdom</td>\n",
       "      <td>Artist</td>\n",
       "      <td>1952</td>\n",
       "      <td>2001.0</td>\n",
       "      <td>49.0</td>\n",
       "    </tr>\n",
       "    <tr>\n",
       "      <th>2</th>\n",
       "      <td>Abraham Lincoln</td>\n",
       "      <td>16th president of the United States (1809-1865)</td>\n",
       "      <td>Male</td>\n",
       "      <td>United States of America</td>\n",
       "      <td>Politician</td>\n",
       "      <td>1809</td>\n",
       "      <td>1865.0</td>\n",
       "      <td>56.0</td>\n",
       "    </tr>\n",
       "    <tr>\n",
       "      <th>3</th>\n",
       "      <td>Wolfgang Amadeus Mozart</td>\n",
       "      <td>Austrian composer of the Classical period</td>\n",
       "      <td>Male</td>\n",
       "      <td>Archduchy of Austria; Archbishopric of Salzburg</td>\n",
       "      <td>Artist</td>\n",
       "      <td>1756</td>\n",
       "      <td>1791.0</td>\n",
       "      <td>35.0</td>\n",
       "    </tr>\n",
       "    <tr>\n",
       "      <th>4</th>\n",
       "      <td>Ludwig van Beethoven</td>\n",
       "      <td>German classical and romantic composer</td>\n",
       "      <td>Male</td>\n",
       "      <td>Holy Roman Empire; Austrian Empire</td>\n",
       "      <td>Artist</td>\n",
       "      <td>1770</td>\n",
       "      <td>1827.0</td>\n",
       "      <td>57.0</td>\n",
       "    </tr>\n",
       "    <tr>\n",
       "      <th>...</th>\n",
       "      <td>...</td>\n",
       "      <td>...</td>\n",
       "      <td>...</td>\n",
       "      <td>...</td>\n",
       "      <td>...</td>\n",
       "      <td>...</td>\n",
       "      <td>...</td>\n",
       "      <td>...</td>\n",
       "    </tr>\n",
       "    <tr>\n",
       "      <th>1222992</th>\n",
       "      <td>Wim de Vreng</td>\n",
       "      <td>Dutch swimmer</td>\n",
       "      <td>Male</td>\n",
       "      <td>Kingdom of the Netherlands</td>\n",
       "      <td>Athlete</td>\n",
       "      <td>1930</td>\n",
       "      <td>1980.0</td>\n",
       "      <td>50.0</td>\n",
       "    </tr>\n",
       "    <tr>\n",
       "      <th>1222993</th>\n",
       "      <td>James Smillie</td>\n",
       "      <td>goudsmid uit Schotland (1784-1841)</td>\n",
       "      <td>Male</td>\n",
       "      <td>Scotland</td>\n",
       "      <td>Goldsmith</td>\n",
       "      <td>1784</td>\n",
       "      <td>1841.0</td>\n",
       "      <td>57.0</td>\n",
       "    </tr>\n",
       "    <tr>\n",
       "      <th>1223000</th>\n",
       "      <td>Gustav Siber</td>\n",
       "      <td>entrepreneur from Switzerland</td>\n",
       "      <td>Male</td>\n",
       "      <td>Switzerland</td>\n",
       "      <td>Entrepreneur</td>\n",
       "      <td>1857</td>\n",
       "      <td>1924.0</td>\n",
       "      <td>67.0</td>\n",
       "    </tr>\n",
       "    <tr>\n",
       "      <th>1223007</th>\n",
       "      <td>Reginald Oswald Pearson</td>\n",
       "      <td>English artist, working in stained glass, prin...</td>\n",
       "      <td>Male</td>\n",
       "      <td>United Kingdom</td>\n",
       "      <td>Artist</td>\n",
       "      <td>1887</td>\n",
       "      <td>1915.0</td>\n",
       "      <td>28.0</td>\n",
       "    </tr>\n",
       "    <tr>\n",
       "      <th>1223008</th>\n",
       "      <td>Horst Lerche</td>\n",
       "      <td>German painter</td>\n",
       "      <td>Male</td>\n",
       "      <td>Germany</td>\n",
       "      <td>Artist</td>\n",
       "      <td>1938</td>\n",
       "      <td>2017.0</td>\n",
       "      <td>79.0</td>\n",
       "    </tr>\n",
       "  </tbody>\n",
       "</table>\n",
       "<p>732961 rows × 8 columns</p>\n",
       "</div>"
      ],
      "text/plain": [
       "                            Name  \\\n",
       "0              George Washington   \n",
       "1                  Douglas Adams   \n",
       "2                Abraham Lincoln   \n",
       "3        Wolfgang Amadeus Mozart   \n",
       "4           Ludwig van Beethoven   \n",
       "...                          ...   \n",
       "1222992             Wim de Vreng   \n",
       "1222993            James Smillie   \n",
       "1223000             Gustav Siber   \n",
       "1223007  Reginald Oswald Pearson   \n",
       "1223008             Horst Lerche   \n",
       "\n",
       "                                         Short description Gender  \\\n",
       "0           1st president of the United States (1732–1799)   Male   \n",
       "1                              English writer and humorist   Male   \n",
       "2          16th president of the United States (1809-1865)   Male   \n",
       "3                Austrian composer of the Classical period   Male   \n",
       "4                   German classical and romantic composer   Male   \n",
       "...                                                    ...    ...   \n",
       "1222992                                      Dutch swimmer   Male   \n",
       "1222993                 goudsmid uit Schotland (1784-1841)   Male   \n",
       "1223000                      entrepreneur from Switzerland   Male   \n",
       "1223007  English artist, working in stained glass, prin...   Male   \n",
       "1223008                                     German painter   Male   \n",
       "\n",
       "                                                   Country    Occupation  \\\n",
       "0        United States of America; Kingdom of Great Bri...    Politician   \n",
       "1                                           United Kingdom        Artist   \n",
       "2                                 United States of America    Politician   \n",
       "3          Archduchy of Austria; Archbishopric of Salzburg        Artist   \n",
       "4                       Holy Roman Empire; Austrian Empire        Artist   \n",
       "...                                                    ...           ...   \n",
       "1222992                         Kingdom of the Netherlands       Athlete   \n",
       "1222993                                           Scotland     Goldsmith   \n",
       "1223000                                        Switzerland  Entrepreneur   \n",
       "1223007                                     United Kingdom        Artist   \n",
       "1223008                                            Germany        Artist   \n",
       "\n",
       "         Birth year  Death year  Age of death  \n",
       "0              1732      1799.0          67.0  \n",
       "1              1952      2001.0          49.0  \n",
       "2              1809      1865.0          56.0  \n",
       "3              1756      1791.0          35.0  \n",
       "4              1770      1827.0          57.0  \n",
       "...             ...         ...           ...  \n",
       "1222992        1930      1980.0          50.0  \n",
       "1222993        1784      1841.0          57.0  \n",
       "1223000        1857      1924.0          67.0  \n",
       "1223007        1887      1915.0          28.0  \n",
       "1223008        1938      2017.0          79.0  \n",
       "\n",
       "[732961 rows x 8 columns]"
      ]
     },
     "execution_count": 14,
     "metadata": {},
     "output_type": "execute_result"
    }
   ],
   "source": [
    "df_clean"
   ]
  },
  {
   "cell_type": "code",
   "execution_count": 15,
   "metadata": {},
   "outputs": [],
   "source": [
    "df_clean.to_csv('AgeDatasetClean.csv', sep='|', index=False)"
   ]
  }
 ],
 "metadata": {
  "kernelspec": {
   "display_name": "Python 3.8.5 ('.venv': venv)",
   "language": "python",
   "name": "python3"
  },
  "language_info": {
   "codemirror_mode": {
    "name": "ipython",
    "version": 3
   },
   "file_extension": ".py",
   "mimetype": "text/x-python",
   "name": "python",
   "nbconvert_exporter": "python",
   "pygments_lexer": "ipython3",
   "version": "3.8.5"
  },
  "orig_nbformat": 4,
  "vscode": {
   "interpreter": {
    "hash": "26e36c08b061f2911e8cbb88ec5963c43a5d9181426b19ee77997581a57ae9e3"
   }
  }
 },
 "nbformat": 4,
 "nbformat_minor": 2
}
